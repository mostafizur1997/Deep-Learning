{
  "nbformat": 4,
  "nbformat_minor": 0,
  "metadata": {
    "colab": {
      "provenance": [],
      "authorship_tag": "ABX9TyN8KxicAwph+kBqJ/X3u1AE",
      "include_colab_link": true
    },
    "kernelspec": {
      "name": "python3",
      "display_name": "Python 3"
    },
    "language_info": {
      "name": "python"
    },
    "accelerator": "GPU",
    "gpuClass": "standard"
  },
  "cells": [
    {
      "cell_type": "markdown",
      "metadata": {
        "id": "view-in-github",
        "colab_type": "text"
      },
      "source": [
        "<a href=\"https://colab.research.google.com/github/mostafizur1997/Deep-Learning/blob/main/00_Tensorflow_Fundamentals.ipynb\" target=\"_parent\"><img src=\"https://colab.research.google.com/assets/colab-badge.svg\" alt=\"Open In Colab\"/></a>"
      ]
    },
    {
      "cell_type": "code",
      "execution_count": 1,
      "metadata": {
        "colab": {
          "base_uri": "https://localhost:8080/"
        },
        "id": "R4nESLnj5Yy3",
        "outputId": "af758ad9-69d8-42e0-b782-943ade42ba2d"
      },
      "outputs": [
        {
          "output_type": "stream",
          "name": "stdout",
          "text": [
            "2.9.2\n"
          ]
        }
      ],
      "source": [
        "#import tensorflow\n",
        "import tensorflow as tf\n",
        "print(tf.__version__) #check version"
      ]
    },
    {
      "cell_type": "code",
      "source": [
        "#Creating tensor with tf.constant()\n",
        "#create a scalar(rank with 0)\n",
        "scalar = tf.constant(7)\n",
        "scalar\n"
      ],
      "metadata": {
        "colab": {
          "base_uri": "https://localhost:8080/"
        },
        "id": "e_4gUZLS5zhq",
        "outputId": "3f3131af-19bc-4ffe-a513-6a7154d92da1"
      },
      "execution_count": 2,
      "outputs": [
        {
          "output_type": "execute_result",
          "data": {
            "text/plain": [
              "<tf.Tensor: shape=(), dtype=int32, numpy=7>"
            ]
          },
          "metadata": {},
          "execution_count": 2
        }
      ]
    },
    {
      "cell_type": "code",
      "source": [
        "scalar.ndim"
      ],
      "metadata": {
        "colab": {
          "base_uri": "https://localhost:8080/"
        },
        "id": "0BGeFB1V6VSN",
        "outputId": "8109761a-7cfa-456e-80d5-147e7dab9ced"
      },
      "execution_count": 3,
      "outputs": [
        {
          "output_type": "execute_result",
          "data": {
            "text/plain": [
              "0"
            ]
          },
          "metadata": {},
          "execution_count": 3
        }
      ]
    },
    {
      "cell_type": "code",
      "source": [
        "vector = tf.constant([3,4])\n",
        "vector"
      ],
      "metadata": {
        "colab": {
          "base_uri": "https://localhost:8080/"
        },
        "id": "Q_grv_E16YAe",
        "outputId": "f4a85bca-bb83-49f1-aaaf-d46d10a01c67"
      },
      "execution_count": 4,
      "outputs": [
        {
          "output_type": "execute_result",
          "data": {
            "text/plain": [
              "<tf.Tensor: shape=(2,), dtype=int32, numpy=array([3, 4], dtype=int32)>"
            ]
          },
          "metadata": {},
          "execution_count": 4
        }
      ]
    },
    {
      "cell_type": "code",
      "source": [
        "#check dimension\n",
        "vector.ndim"
      ],
      "metadata": {
        "colab": {
          "base_uri": "https://localhost:8080/"
        },
        "id": "-qblt8x96jlN",
        "outputId": "0baea096-571a-40ab-c86c-c96c190cba57"
      },
      "execution_count": 5,
      "outputs": [
        {
          "output_type": "execute_result",
          "data": {
            "text/plain": [
              "1"
            ]
          },
          "metadata": {},
          "execution_count": 5
        }
      ]
    },
    {
      "cell_type": "code",
      "source": [
        "# create a matrix\n",
        "matrix = tf.constant([[1,2,3],\n",
        "                      [3,4,5]])\n",
        "matrix"
      ],
      "metadata": {
        "colab": {
          "base_uri": "https://localhost:8080/"
        },
        "id": "-i-BRXy_6k_o",
        "outputId": "79d4ec39-004a-4cbc-946a-7df66555096f"
      },
      "execution_count": 6,
      "outputs": [
        {
          "output_type": "execute_result",
          "data": {
            "text/plain": [
              "<tf.Tensor: shape=(2, 3), dtype=int32, numpy=\n",
              "array([[1, 2, 3],\n",
              "       [3, 4, 5]], dtype=int32)>"
            ]
          },
          "metadata": {},
          "execution_count": 6
        }
      ]
    },
    {
      "cell_type": "code",
      "source": [
        "matrix.ndim"
      ],
      "metadata": {
        "colab": {
          "base_uri": "https://localhost:8080/"
        },
        "id": "sFznEdWI6-YA",
        "outputId": "37d5e9dd-5211-43c7-9654-a42c8254ed01"
      },
      "execution_count": 7,
      "outputs": [
        {
          "output_type": "execute_result",
          "data": {
            "text/plain": [
              "2"
            ]
          },
          "metadata": {},
          "execution_count": 7
        }
      ]
    },
    {
      "cell_type": "code",
      "source": [
        "#create tensor\n",
        "another_matrix= tf.constant([[10.,7.],[3.,4.]], dtype=tf.float32) # specify the datatype\n",
        "another_matrix\n"
      ],
      "metadata": {
        "colab": {
          "base_uri": "https://localhost:8080/"
        },
        "id": "THxdJj4f7Exe",
        "outputId": "aeba6865-381b-451f-e264-b5eb3a766101"
      },
      "execution_count": 8,
      "outputs": [
        {
          "output_type": "execute_result",
          "data": {
            "text/plain": [
              "<tf.Tensor: shape=(2, 2), dtype=float32, numpy=\n",
              "array([[10.,  7.],\n",
              "       [ 3.,  4.]], dtype=float32)>"
            ]
          },
          "metadata": {},
          "execution_count": 8
        }
      ]
    },
    {
      "cell_type": "code",
      "source": [
        "another_matrix.ndim"
      ],
      "metadata": {
        "colab": {
          "base_uri": "https://localhost:8080/"
        },
        "id": "H3l05yun7pcx",
        "outputId": "8e265815-b09d-4ae3-9bc3-3d784d51babb"
      },
      "execution_count": 9,
      "outputs": [
        {
          "output_type": "execute_result",
          "data": {
            "text/plain": [
              "2"
            ]
          },
          "metadata": {},
          "execution_count": 9
        }
      ]
    },
    {
      "cell_type": "code",
      "source": [
        "#Even through another matrix contains more numbers, its dimension stay the same\n",
        "another_matrix.ndim"
      ],
      "metadata": {
        "colab": {
          "base_uri": "https://localhost:8080/"
        },
        "id": "qPJz-gck8LRB",
        "outputId": "3d6153d6-15b1-410f-b0e7-8e3a3b8d07e1"
      },
      "execution_count": 10,
      "outputs": [
        {
          "output_type": "execute_result",
          "data": {
            "text/plain": [
              "2"
            ]
          },
          "metadata": {},
          "execution_count": 10
        }
      ]
    },
    {
      "cell_type": "code",
      "source": [
        "#How about a tensor?3,2,3\n",
        "tensor =tf.constant([[[1,2,3],[4,5,6]],\n",
        "                     [[7,8,9],[10,11,12]],\n",
        "                     [[13,14,15],[16,17,18]]\n",
        "                     ])\n",
        "\n",
        "tensor"
      ],
      "metadata": {
        "colab": {
          "base_uri": "https://localhost:8080/"
        },
        "id": "mioq9uRT8kyq",
        "outputId": "87eefdbf-7a48-4e35-e783-8f9bea230f75"
      },
      "execution_count": 11,
      "outputs": [
        {
          "output_type": "execute_result",
          "data": {
            "text/plain": [
              "<tf.Tensor: shape=(3, 2, 3), dtype=int32, numpy=\n",
              "array([[[ 1,  2,  3],\n",
              "        [ 4,  5,  6]],\n",
              "\n",
              "       [[ 7,  8,  9],\n",
              "        [10, 11, 12]],\n",
              "\n",
              "       [[13, 14, 15],\n",
              "        [16, 17, 18]]], dtype=int32)>"
            ]
          },
          "metadata": {},
          "execution_count": 11
        }
      ]
    },
    {
      "cell_type": "markdown",
      "source": [
        "# scalar: a single number\n",
        "# vector: a number with direction\n",
        "# matrix: 2-dimentional array of numbers\n",
        "# tensor: n-dimensional array of numbers"
      ],
      "metadata": {
        "id": "A9SjfFxF-_Ik"
      }
    },
    {
      "cell_type": "code",
      "source": [
        "#Creating tensors with tf.Variable()\n",
        "\n",
        "changeable_tensor = tf.Variable([10,7])\n",
        "unchangeable_tensor =tf.constant([10,7])"
      ],
      "metadata": {
        "id": "VoNuA2SG-vnQ"
      },
      "execution_count": 12,
      "outputs": []
    },
    {
      "cell_type": "code",
      "source": [
        "changeable_tensor, unchangeable_tensor"
      ],
      "metadata": {
        "colab": {
          "base_uri": "https://localhost:8080/"
        },
        "id": "bwbevkTJU5vP",
        "outputId": "2bed38f1-493f-4fef-b815-865592835d6d"
      },
      "execution_count": 13,
      "outputs": [
        {
          "output_type": "execute_result",
          "data": {
            "text/plain": [
              "(<tf.Variable 'Variable:0' shape=(2,) dtype=int32, numpy=array([10,  7], dtype=int32)>,\n",
              " <tf.Tensor: shape=(2,), dtype=int32, numpy=array([10,  7], dtype=int32)>)"
            ]
          },
          "metadata": {},
          "execution_count": 13
        }
      ]
    },
    {
      "cell_type": "code",
      "source": [
        "#doesnot support in this way\n",
        "changeable_tensor[0] =7"
      ],
      "metadata": {
        "colab": {
          "base_uri": "https://localhost:8080/",
          "height": 190
        },
        "id": "cAyasE-VVrbd",
        "outputId": "74229b7c-96f5-41af-f1f9-2857706cc3a1"
      },
      "execution_count": 14,
      "outputs": [
        {
          "output_type": "error",
          "ename": "TypeError",
          "evalue": "ignored",
          "traceback": [
            "\u001b[0;31m---------------------------------------------------------------------------\u001b[0m",
            "\u001b[0;31mTypeError\u001b[0m                                 Traceback (most recent call last)",
            "\u001b[0;32m<ipython-input-14-ea877feda39f>\u001b[0m in \u001b[0;36m<module>\u001b[0;34m\u001b[0m\n\u001b[1;32m      1\u001b[0m \u001b[0;31m#doesnot support in this way\u001b[0m\u001b[0;34m\u001b[0m\u001b[0;34m\u001b[0m\u001b[0;34m\u001b[0m\u001b[0m\n\u001b[0;32m----> 2\u001b[0;31m \u001b[0mchangeable_tensor\u001b[0m\u001b[0;34m[\u001b[0m\u001b[0;36m0\u001b[0m\u001b[0;34m]\u001b[0m \u001b[0;34m=\u001b[0m\u001b[0;36m7\u001b[0m\u001b[0;34m\u001b[0m\u001b[0;34m\u001b[0m\u001b[0m\n\u001b[0m",
            "\u001b[0;31mTypeError\u001b[0m: 'ResourceVariable' object does not support item assignment"
          ]
        }
      ]
    },
    {
      "cell_type": "code",
      "source": [
        "#support the way\n",
        "changeable_tensor[0].assign(7)"
      ],
      "metadata": {
        "id": "UemZ2SXcV1WG"
      },
      "execution_count": null,
      "outputs": []
    },
    {
      "cell_type": "code",
      "source": [
        "#assign method is not approprite for constant\n",
        "unchangeable_tensor[0].assign(7)"
      ],
      "metadata": {
        "id": "xkMBgc9zWD-c"
      },
      "execution_count": null,
      "outputs": []
    },
    {
      "cell_type": "code",
      "source": [
        "# Create two random ( but the same ) tensors\n",
        "random_1 = tf.random.Generator.from_seed(42) #set the seed for reproducibility\n",
        "random_1 = random_1.normal(shape=(3,2)) # create tensor from a normal distribution\n",
        "random_2 = tf.random.Generator.from_seed(42)\n",
        "random_2= random_2.normal(shape=(3,2))\n",
        "random_1 == random_2\n",
        "\n",
        "random_1, random_2, random_1 == random_2 "
      ],
      "metadata": {
        "id": "ZESI89vHWvDq"
      },
      "execution_count": null,
      "outputs": []
    },
    {
      "cell_type": "code",
      "source": [
        "# create two random (and different) tensors\n",
        "random_3 = tf.random.Generator.from_seed(42)\n",
        "random_3 =random_3.normal(shape=(3,2))\n",
        "random_4 = tf.random.Generator. from_seed(11)\n",
        "random_4 = random_4.normal(shape=(3,2))"
      ],
      "metadata": {
        "id": "nPbJZ31tLkTt"
      },
      "execution_count": null,
      "outputs": []
    },
    {
      "cell_type": "code",
      "source": [
        "#seed are different so they are not equal\n",
        "random_3 == random_4"
      ],
      "metadata": {
        "id": "setze4gQQvge"
      },
      "execution_count": null,
      "outputs": []
    },
    {
      "cell_type": "code",
      "source": [
        "#shuffle a tensor (valuabel for when you shauffle your data)\n",
        "not_shuffled = tf.constant([[10,7],[3,4],[2,5]])\n",
        "\n",
        "#get different results each time\n",
        "tf.random.shuffle(not_shuffled)"
      ],
      "metadata": {
        "id": "vEklqS5GQyth"
      },
      "execution_count": null,
      "outputs": []
    },
    {
      "cell_type": "code",
      "source": [
        "#shuffle in the same every time using the seed parameter (won't actually the same output)\n",
        "tf.random.shuffle(not_shuffled)"
      ],
      "metadata": {
        "id": "nvDE8wL6Tlxg"
      },
      "execution_count": null,
      "outputs": []
    },
    {
      "cell_type": "code",
      "source": [
        "tf.random.shuffle(not_shuffled, seed = 42)"
      ],
      "metadata": {
        "id": "nFVJizxOToFj"
      },
      "execution_count": null,
      "outputs": []
    },
    {
      "cell_type": "code",
      "source": [
        "#global seed\n",
        "tf.random.set_seed(42)\n",
        "\n",
        "#operation random seed \n",
        "tf.random.shuffle(not_shuffled, 42)"
      ],
      "metadata": {
        "id": "X64_CS3XTxdB"
      },
      "execution_count": null,
      "outputs": []
    },
    {
      "cell_type": "markdown",
      "source": [
        "#Other ways to make tensor"
      ],
      "metadata": {
        "id": "KR4Dgq1YZNjD"
      }
    },
    {
      "cell_type": "code",
      "source": [
        "#Make a tensor to all ones\n",
        "tf.ones(shape=(3,2))"
      ],
      "metadata": {
        "id": "JTorItlkXmGT"
      },
      "execution_count": null,
      "outputs": []
    },
    {
      "cell_type": "code",
      "source": [
        "#make a tensor of all zeros\n",
        "tf.zeros(shape=(3,2)) "
      ],
      "metadata": {
        "colab": {
          "base_uri": "https://localhost:8080/"
        },
        "id": "xE5G62efYzcE",
        "outputId": "346dbf98-c257-4f57-8a7a-5de9351ad2b8"
      },
      "execution_count": 15,
      "outputs": [
        {
          "output_type": "execute_result",
          "data": {
            "text/plain": [
              "<tf.Tensor: shape=(3, 2), dtype=float32, numpy=\n",
              "array([[0., 0.],\n",
              "       [0., 0.],\n",
              "       [0., 0.]], dtype=float32)>"
            ]
          },
          "metadata": {},
          "execution_count": 15
        }
      ]
    },
    {
      "cell_type": "code",
      "source": [
        "#Note:: Matrix is presented by a capital letter (A or X) and Vector is presented by a vector(y or b)\n",
        "\n",
        "import numpy as np\n",
        "numpy_A =np.arange(1,25,dtype =np.int32)\n",
        "A = tf.constant(numpy_A, shape =[2,4,3]) # note the shape total (2*4*3) has to match  the number of elements in the array\n",
        "numpy_A, A"
      ],
      "metadata": {
        "colab": {
          "base_uri": "https://localhost:8080/"
        },
        "id": "iDaIiuqeZY6S",
        "outputId": "29fb2d7b-e5aa-4613-edac-51dafd5edc8c"
      },
      "execution_count": 16,
      "outputs": [
        {
          "output_type": "execute_result",
          "data": {
            "text/plain": [
              "(array([ 1,  2,  3,  4,  5,  6,  7,  8,  9, 10, 11, 12, 13, 14, 15, 16, 17,\n",
              "        18, 19, 20, 21, 22, 23, 24], dtype=int32),\n",
              " <tf.Tensor: shape=(2, 4, 3), dtype=int32, numpy=\n",
              " array([[[ 1,  2,  3],\n",
              "         [ 4,  5,  6],\n",
              "         [ 7,  8,  9],\n",
              "         [10, 11, 12]],\n",
              " \n",
              "        [[13, 14, 15],\n",
              "         [16, 17, 18],\n",
              "         [19, 20, 21],\n",
              "         [22, 23, 24]]], dtype=int32)>)"
            ]
          },
          "metadata": {},
          "execution_count": 16
        }
      ]
    },
    {
      "cell_type": "markdown",
      "source": [
        "##Getting information from tensors (shape, rank, size)\n",
        "* Shape: The length (number of elements) of each of the dimensions of a tensor.\n",
        "* Rank: The number of tensor dimensions. A scalar has rank 0, a vector has 1, a matricx has rank 2, a tensor has rank n.\n",
        "* Axis or dimension: a particular dimension of a tensor.\n",
        "* Size: The total number of items in the tensor"
      ],
      "metadata": {
        "id": "bx2W__K4oHhZ"
      }
    },
    {
      "cell_type": "code",
      "source": [
        "# Create a rank 4 tensor (4 dimensions)\n",
        "rank_4_tensor =tf.zeros([2,3,4,5])\n",
        "rank_4_tensor"
      ],
      "metadata": {
        "colab": {
          "base_uri": "https://localhost:8080/"
        },
        "id": "24Ad-Gvcac96",
        "outputId": "3954a34d-188b-4c30-f991-ab1490e4651c"
      },
      "execution_count": 17,
      "outputs": [
        {
          "output_type": "execute_result",
          "data": {
            "text/plain": [
              "<tf.Tensor: shape=(2, 3, 4, 5), dtype=float32, numpy=\n",
              "array([[[[0., 0., 0., 0., 0.],\n",
              "         [0., 0., 0., 0., 0.],\n",
              "         [0., 0., 0., 0., 0.],\n",
              "         [0., 0., 0., 0., 0.]],\n",
              "\n",
              "        [[0., 0., 0., 0., 0.],\n",
              "         [0., 0., 0., 0., 0.],\n",
              "         [0., 0., 0., 0., 0.],\n",
              "         [0., 0., 0., 0., 0.]],\n",
              "\n",
              "        [[0., 0., 0., 0., 0.],\n",
              "         [0., 0., 0., 0., 0.],\n",
              "         [0., 0., 0., 0., 0.],\n",
              "         [0., 0., 0., 0., 0.]]],\n",
              "\n",
              "\n",
              "       [[[0., 0., 0., 0., 0.],\n",
              "         [0., 0., 0., 0., 0.],\n",
              "         [0., 0., 0., 0., 0.],\n",
              "         [0., 0., 0., 0., 0.]],\n",
              "\n",
              "        [[0., 0., 0., 0., 0.],\n",
              "         [0., 0., 0., 0., 0.],\n",
              "         [0., 0., 0., 0., 0.],\n",
              "         [0., 0., 0., 0., 0.]],\n",
              "\n",
              "        [[0., 0., 0., 0., 0.],\n",
              "         [0., 0., 0., 0., 0.],\n",
              "         [0., 0., 0., 0., 0.],\n",
              "         [0., 0., 0., 0., 0.]]]], dtype=float32)>"
            ]
          },
          "metadata": {},
          "execution_count": 17
        }
      ]
    },
    {
      "cell_type": "code",
      "source": [
        "rank_4_tensor.shape, rank_4_tensor.ndim, tf.size(rank_4_tensor)"
      ],
      "metadata": {
        "colab": {
          "base_uri": "https://localhost:8080/"
        },
        "id": "gs0NIQvopgHO",
        "outputId": "e85f07f2-9ba4-4b07-cc9c-0494ed592487"
      },
      "execution_count": 18,
      "outputs": [
        {
          "output_type": "execute_result",
          "data": {
            "text/plain": [
              "(TensorShape([2, 3, 4, 5]), 4, <tf.Tensor: shape=(), dtype=int32, numpy=120>)"
            ]
          },
          "metadata": {},
          "execution_count": 18
        }
      ]
    },
    {
      "cell_type": "code",
      "source": [
        "# Get various attribute of tensor\n",
        "\n",
        "print(\"Dtype  of every element:\", rank_4_tensor.dtype)\n",
        "print(\"Number of dimensions (rank):\", rank_4_tensor.ndim)\n",
        "print(\"Shape of tensor: \", rank_4_tensor.shape)\n",
        "print(\"Elements along axis 0 of tensor: \", rank_4_tensor.shape[0])\n",
        "print(\"Elements along last axis of tensor: \", rank_4_tensor[-1])\n",
        "print(\"Total number of elements (2*3*4): \", tf.size(rank_4_tensor).numpy())"
      ],
      "metadata": {
        "colab": {
          "base_uri": "https://localhost:8080/"
        },
        "id": "ZzRtcpB6qdzW",
        "outputId": "b70ea8ae-2532-49e8-f89d-b3c86a818249"
      },
      "execution_count": 19,
      "outputs": [
        {
          "output_type": "stream",
          "name": "stdout",
          "text": [
            "Dtype  of every element: <dtype: 'float32'>\n",
            "Number of dimensions (rank): 4\n",
            "Shape of tensor:  (2, 3, 4, 5)\n",
            "Elements along axis 0 of tensor:  2\n",
            "Elements along last axis of tensor:  tf.Tensor(\n",
            "[[[0. 0. 0. 0. 0.]\n",
            "  [0. 0. 0. 0. 0.]\n",
            "  [0. 0. 0. 0. 0.]\n",
            "  [0. 0. 0. 0. 0.]]\n",
            "\n",
            " [[0. 0. 0. 0. 0.]\n",
            "  [0. 0. 0. 0. 0.]\n",
            "  [0. 0. 0. 0. 0.]\n",
            "  [0. 0. 0. 0. 0.]]\n",
            "\n",
            " [[0. 0. 0. 0. 0.]\n",
            "  [0. 0. 0. 0. 0.]\n",
            "  [0. 0. 0. 0. 0.]\n",
            "  [0. 0. 0. 0. 0.]]], shape=(3, 4, 5), dtype=float32)\n",
            "Total number of elements (2*3*4):  120\n"
          ]
        }
      ]
    },
    {
      "cell_type": "code",
      "source": [
        "#get the first 2 items of each dimension\n",
        "rank_4_tensor[:2, :2, :2, :2]"
      ],
      "metadata": {
        "colab": {
          "base_uri": "https://localhost:8080/"
        },
        "id": "SCn0leKbsDgp",
        "outputId": "587ee609-86be-4ff9-c0e1-e2cb98950279"
      },
      "execution_count": 20,
      "outputs": [
        {
          "output_type": "execute_result",
          "data": {
            "text/plain": [
              "<tf.Tensor: shape=(2, 2, 2, 2), dtype=float32, numpy=\n",
              "array([[[[0., 0.],\n",
              "         [0., 0.]],\n",
              "\n",
              "        [[0., 0.],\n",
              "         [0., 0.]]],\n",
              "\n",
              "\n",
              "       [[[0., 0.],\n",
              "         [0., 0.]],\n",
              "\n",
              "        [[0., 0.],\n",
              "         [0., 0.]]]], dtype=float32)>"
            ]
          },
          "metadata": {},
          "execution_count": 20
        }
      ]
    },
    {
      "cell_type": "code",
      "source": [
        "#Get the dimension from each index except for the final one\n",
        "rank_4_tensor[:1,:1,:1,:]"
      ],
      "metadata": {
        "colab": {
          "base_uri": "https://localhost:8080/"
        },
        "id": "g7E5aUQqs8AQ",
        "outputId": "e6bf2cfe-7660-4457-e2ad-cee31c57bc9e"
      },
      "execution_count": 21,
      "outputs": [
        {
          "output_type": "execute_result",
          "data": {
            "text/plain": [
              "<tf.Tensor: shape=(1, 1, 1, 5), dtype=float32, numpy=array([[[[0., 0., 0., 0., 0.]]]], dtype=float32)>"
            ]
          },
          "metadata": {},
          "execution_count": 21
        }
      ]
    },
    {
      "cell_type": "code",
      "source": [
        "#Create a rank 2 tensor (2 dimensions)\n",
        "rank_2_tensor = tf.constant([[10,7],[3,4]])\n"
      ],
      "metadata": {
        "id": "ibsHyhBwti-O"
      },
      "execution_count": 22,
      "outputs": []
    },
    {
      "cell_type": "code",
      "source": [
        "#Get the last item of each row\n",
        "rank_2_tensor = tf.constant([[10,7],[3,4]])\n",
        "rank_2_tensor[:,-1]"
      ],
      "metadata": {
        "colab": {
          "base_uri": "https://localhost:8080/"
        },
        "id": "TX9Qci_VrJLw",
        "outputId": "bc561c7f-3037-42c5-fb45-0b2de392c425"
      },
      "execution_count": 23,
      "outputs": [
        {
          "output_type": "execute_result",
          "data": {
            "text/plain": [
              "<tf.Tensor: shape=(2,), dtype=int32, numpy=array([7, 4], dtype=int32)>"
            ]
          },
          "metadata": {},
          "execution_count": 23
        }
      ]
    },
    {
      "cell_type": "code",
      "source": [
        "#Add an extra dimension(to the end)\n",
        "rank_3_tensor = rank_2_tensor[..., tf.newaxis] #in Python \"...\" means \"all dimensions prior to\"\n",
        "rank_2_tensor, rank_3_tensor #shape (2,2), shape(2,2,1)"
      ],
      "metadata": {
        "colab": {
          "base_uri": "https://localhost:8080/"
        },
        "id": "2iTEBb-5rKBi",
        "outputId": "ab59886d-9cbb-437d-f86d-a83e5dee5c26"
      },
      "execution_count": 24,
      "outputs": [
        {
          "output_type": "execute_result",
          "data": {
            "text/plain": [
              "(<tf.Tensor: shape=(2, 2), dtype=int32, numpy=\n",
              " array([[10,  7],\n",
              "        [ 3,  4]], dtype=int32)>,\n",
              " <tf.Tensor: shape=(2, 2, 1), dtype=int32, numpy=\n",
              " array([[[10],\n",
              "         [ 7]],\n",
              " \n",
              "        [[ 3],\n",
              "         [ 4]]], dtype=int32)>)"
            ]
          },
          "metadata": {},
          "execution_count": 24
        }
      ]
    },
    {
      "cell_type": "code",
      "source": [
        "tf.expand_dims (rank_2_tensor, axis=-1) #\"-1\" means last axis"
      ],
      "metadata": {
        "colab": {
          "base_uri": "https://localhost:8080/"
        },
        "id": "sd7U4lhuspmo",
        "outputId": "10a752ee-2213-445f-c3e5-7ed51929cb8b"
      },
      "execution_count": 25,
      "outputs": [
        {
          "output_type": "execute_result",
          "data": {
            "text/plain": [
              "<tf.Tensor: shape=(2, 2, 1), dtype=int32, numpy=\n",
              "array([[[10],\n",
              "        [ 7]],\n",
              "\n",
              "       [[ 3],\n",
              "        [ 4]]], dtype=int32)>"
            ]
          },
          "metadata": {},
          "execution_count": 25
        }
      ]
    },
    {
      "cell_type": "markdown",
      "source": [
        "#Manipulating tensors (tensor operations)\n",
        "#Basic Operations "
      ],
      "metadata": {
        "id": "8Sv8JrsLvT-U"
      }
    },
    {
      "cell_type": "code",
      "source": [
        "# add values to a tensor \n",
        "addtensor= tf.constant([[10,2],[20,12]])\n",
        "addtensor + 10"
      ],
      "metadata": {
        "colab": {
          "base_uri": "https://localhost:8080/"
        },
        "id": "fFfRM6PpuJhH",
        "outputId": "a818594f-3f22-404f-f6cb-9edd8d5f6a5e"
      },
      "execution_count": 26,
      "outputs": [
        {
          "output_type": "execute_result",
          "data": {
            "text/plain": [
              "<tf.Tensor: shape=(2, 2), dtype=int32, numpy=\n",
              "array([[20, 12],\n",
              "       [30, 22]], dtype=int32)>"
            ]
          },
          "metadata": {},
          "execution_count": 26
        }
      ]
    },
    {
      "cell_type": "code",
      "source": [
        "#subtract tensor\n",
        "subtracttensor =  addtensor - 3\n",
        "subtracttensor"
      ],
      "metadata": {
        "colab": {
          "base_uri": "https://localhost:8080/"
        },
        "id": "EKC4ft_1vp2A",
        "outputId": "715cccd7-c9f3-4cad-d8bd-f6325a5324b3"
      },
      "execution_count": 27,
      "outputs": [
        {
          "output_type": "execute_result",
          "data": {
            "text/plain": [
              "<tf.Tensor: shape=(2, 2), dtype=int32, numpy=\n",
              "array([[ 7, -1],\n",
              "       [17,  9]], dtype=int32)>"
            ]
          },
          "metadata": {},
          "execution_count": 27
        }
      ]
    },
    {
      "cell_type": "code",
      "source": [
        "# Multiplication by using * \n",
        "Multiplication = subtracttensor *12\n",
        "Multiplication"
      ],
      "metadata": {
        "colab": {
          "base_uri": "https://localhost:8080/"
        },
        "id": "1pYcDhMNwNx0",
        "outputId": "f860f905-8e08-4866-f342-60d98ab5b8b4"
      },
      "execution_count": 28,
      "outputs": [
        {
          "output_type": "execute_result",
          "data": {
            "text/plain": [
              "<tf.Tensor: shape=(2, 2), dtype=int32, numpy=\n",
              "array([[ 84, -12],\n",
              "       [204, 108]], dtype=int32)>"
            ]
          },
          "metadata": {},
          "execution_count": 28
        }
      ]
    },
    {
      "cell_type": "code",
      "source": [
        "#use multiply for multiplication\n",
        "tf.multiply(addtensor, 10)"
      ],
      "metadata": {
        "colab": {
          "base_uri": "https://localhost:8080/"
        },
        "id": "PJCjMRNfwhYe",
        "outputId": "33634fab-7310-4fbb-e09a-c4e36d5332ca"
      },
      "execution_count": 29,
      "outputs": [
        {
          "output_type": "execute_result",
          "data": {
            "text/plain": [
              "<tf.Tensor: shape=(2, 2), dtype=int32, numpy=\n",
              "array([[100,  20],\n",
              "       [200, 120]], dtype=int32)>"
            ]
          },
          "metadata": {},
          "execution_count": 29
        }
      ]
    },
    {
      "cell_type": "markdown",
      "source": [
        "## Matrix Multiplication"
      ],
      "metadata": {
        "id": "nzyZcHU1yN2_"
      }
    },
    {
      "cell_type": "code",
      "source": [
        "# matrix multiplication in tensorflow\n",
        "print (addtensor)\n",
        "tf.matmul(addtensor, addtensor)"
      ],
      "metadata": {
        "colab": {
          "base_uri": "https://localhost:8080/"
        },
        "id": "Db89mNAqw_XI",
        "outputId": "7e3b643c-87f5-4a43-95ed-948e8b1a941a"
      },
      "execution_count": 30,
      "outputs": [
        {
          "output_type": "stream",
          "name": "stdout",
          "text": [
            "tf.Tensor(\n",
            "[[10  2]\n",
            " [20 12]], shape=(2, 2), dtype=int32)\n"
          ]
        },
        {
          "output_type": "execute_result",
          "data": {
            "text/plain": [
              "<tf.Tensor: shape=(2, 2), dtype=int32, numpy=\n",
              "array([[140,  44],\n",
              "       [440, 184]], dtype=int32)>"
            ]
          },
          "metadata": {},
          "execution_count": 30
        }
      ]
    },
    {
      "cell_type": "code",
      "source": [
        "#Matrix multiplication with python operator '@'\n",
        "addtensor @ addtensor"
      ],
      "metadata": {
        "colab": {
          "base_uri": "https://localhost:8080/"
        },
        "id": "0IlFUiRNzWTj",
        "outputId": "aa5cb540-0a5b-4f1a-8f01-4b9d1eb803ac"
      },
      "execution_count": 31,
      "outputs": [
        {
          "output_type": "execute_result",
          "data": {
            "text/plain": [
              "<tf.Tensor: shape=(2, 2), dtype=int32, numpy=\n",
              "array([[140,  44],\n",
              "       [440, 184]], dtype=int32)>"
            ]
          },
          "metadata": {},
          "execution_count": 31
        }
      ]
    },
    {
      "cell_type": "code",
      "source": [
        "#Create (3,2) tensor\n",
        "X= tf.constant ([[1,2],[3,4],[5,6]])\n",
        "\n",
        "#another (3,2) tensor\n",
        "Y = tf.constant([[7,8],[8,9],[10,11]])\n",
        "\n",
        "X,Y"
      ],
      "metadata": {
        "colab": {
          "base_uri": "https://localhost:8080/"
        },
        "id": "C_6fGg9Jz3Ex",
        "outputId": "0886fe67-010a-44d2-84bb-2cbb8a61b663"
      },
      "execution_count": 32,
      "outputs": [
        {
          "output_type": "execute_result",
          "data": {
            "text/plain": [
              "(<tf.Tensor: shape=(3, 2), dtype=int32, numpy=\n",
              " array([[1, 2],\n",
              "        [3, 4],\n",
              "        [5, 6]], dtype=int32)>, <tf.Tensor: shape=(3, 2), dtype=int32, numpy=\n",
              " array([[ 7,  8],\n",
              "        [ 8,  9],\n",
              "        [10, 11]], dtype=int32)>)"
            ]
          },
          "metadata": {},
          "execution_count": 32
        }
      ]
    },
    {
      "cell_type": "code",
      "source": [
        "#Try to matrix multiply them (will error)\n",
        "X @ Y "
      ],
      "metadata": {
        "colab": {
          "base_uri": "https://localhost:8080/",
          "height": 344
        },
        "id": "yRBfMD7J1AS0",
        "outputId": "91de071c-2e2c-46a6-cd8a-b3ddf0901e3e"
      },
      "execution_count": 33,
      "outputs": [
        {
          "output_type": "error",
          "ename": "InvalidArgumentError",
          "evalue": "ignored",
          "traceback": [
            "\u001b[0;31m---------------------------------------------------------------------------\u001b[0m",
            "\u001b[0;31mInvalidArgumentError\u001b[0m                      Traceback (most recent call last)",
            "\u001b[0;32m<ipython-input-33-b9af2d7a4300>\u001b[0m in \u001b[0;36m<module>\u001b[0;34m\u001b[0m\n\u001b[1;32m      1\u001b[0m \u001b[0;31m#Try to matrix multiply them (will error)\u001b[0m\u001b[0;34m\u001b[0m\u001b[0;34m\u001b[0m\u001b[0;34m\u001b[0m\u001b[0m\n\u001b[0;32m----> 2\u001b[0;31m \u001b[0mX\u001b[0m \u001b[0;34m@\u001b[0m \u001b[0mY\u001b[0m\u001b[0;34m\u001b[0m\u001b[0;34m\u001b[0m\u001b[0m\n\u001b[0m",
            "\u001b[0;32m/usr/local/lib/python3.8/dist-packages/tensorflow/python/util/traceback_utils.py\u001b[0m in \u001b[0;36merror_handler\u001b[0;34m(*args, **kwargs)\u001b[0m\n\u001b[1;32m    151\u001b[0m     \u001b[0;32mexcept\u001b[0m \u001b[0mException\u001b[0m \u001b[0;32mas\u001b[0m \u001b[0me\u001b[0m\u001b[0;34m:\u001b[0m\u001b[0;34m\u001b[0m\u001b[0;34m\u001b[0m\u001b[0m\n\u001b[1;32m    152\u001b[0m       \u001b[0mfiltered_tb\u001b[0m \u001b[0;34m=\u001b[0m \u001b[0m_process_traceback_frames\u001b[0m\u001b[0;34m(\u001b[0m\u001b[0me\u001b[0m\u001b[0;34m.\u001b[0m\u001b[0m__traceback__\u001b[0m\u001b[0;34m)\u001b[0m\u001b[0;34m\u001b[0m\u001b[0;34m\u001b[0m\u001b[0m\n\u001b[0;32m--> 153\u001b[0;31m       \u001b[0;32mraise\u001b[0m \u001b[0me\u001b[0m\u001b[0;34m.\u001b[0m\u001b[0mwith_traceback\u001b[0m\u001b[0;34m(\u001b[0m\u001b[0mfiltered_tb\u001b[0m\u001b[0;34m)\u001b[0m \u001b[0;32mfrom\u001b[0m \u001b[0;32mNone\u001b[0m\u001b[0;34m\u001b[0m\u001b[0;34m\u001b[0m\u001b[0m\n\u001b[0m\u001b[1;32m    154\u001b[0m     \u001b[0;32mfinally\u001b[0m\u001b[0;34m:\u001b[0m\u001b[0;34m\u001b[0m\u001b[0;34m\u001b[0m\u001b[0m\n\u001b[1;32m    155\u001b[0m       \u001b[0;32mdel\u001b[0m \u001b[0mfiltered_tb\u001b[0m\u001b[0;34m\u001b[0m\u001b[0;34m\u001b[0m\u001b[0m\n",
            "\u001b[0;32m/usr/local/lib/python3.8/dist-packages/tensorflow/python/framework/ops.py\u001b[0m in \u001b[0;36mraise_from_not_ok_status\u001b[0;34m(e, name)\u001b[0m\n\u001b[1;32m   7162\u001b[0m \u001b[0;32mdef\u001b[0m \u001b[0mraise_from_not_ok_status\u001b[0m\u001b[0;34m(\u001b[0m\u001b[0me\u001b[0m\u001b[0;34m,\u001b[0m \u001b[0mname\u001b[0m\u001b[0;34m)\u001b[0m\u001b[0;34m:\u001b[0m\u001b[0;34m\u001b[0m\u001b[0;34m\u001b[0m\u001b[0m\n\u001b[1;32m   7163\u001b[0m   \u001b[0me\u001b[0m\u001b[0;34m.\u001b[0m\u001b[0mmessage\u001b[0m \u001b[0;34m+=\u001b[0m \u001b[0;34m(\u001b[0m\u001b[0;34m\" name: \"\u001b[0m \u001b[0;34m+\u001b[0m \u001b[0mname\u001b[0m \u001b[0;32mif\u001b[0m \u001b[0mname\u001b[0m \u001b[0;32mis\u001b[0m \u001b[0;32mnot\u001b[0m \u001b[0;32mNone\u001b[0m \u001b[0;32melse\u001b[0m \u001b[0;34m\"\"\u001b[0m\u001b[0;34m)\u001b[0m\u001b[0;34m\u001b[0m\u001b[0;34m\u001b[0m\u001b[0m\n\u001b[0;32m-> 7164\u001b[0;31m   \u001b[0;32mraise\u001b[0m \u001b[0mcore\u001b[0m\u001b[0;34m.\u001b[0m\u001b[0m_status_to_exception\u001b[0m\u001b[0;34m(\u001b[0m\u001b[0me\u001b[0m\u001b[0;34m)\u001b[0m \u001b[0;32mfrom\u001b[0m \u001b[0;32mNone\u001b[0m  \u001b[0;31m# pylint: disable=protected-access\u001b[0m\u001b[0;34m\u001b[0m\u001b[0;34m\u001b[0m\u001b[0m\n\u001b[0m\u001b[1;32m   7165\u001b[0m \u001b[0;34m\u001b[0m\u001b[0m\n\u001b[1;32m   7166\u001b[0m \u001b[0;34m\u001b[0m\u001b[0m\n",
            "\u001b[0;31mInvalidArgumentError\u001b[0m: Matrix size-incompatible: In[0]: [3,2], In[1]: [3,2] [Op:MatMul]"
          ]
        }
      ]
    },
    {
      "cell_type": "markdown",
      "source": [
        "#We can do this with either\n",
        "* tf.reshape() - allow us to reshape a tensor into a defined shape\n",
        "* tf.transpose() - switches the dimensions of a given tensor"
      ],
      "metadata": {
        "id": "ugK9NAy51xPA"
      }
    },
    {
      "cell_type": "code",
      "source": [
        "# Example of reshape (3,2) --> (2,3)\n",
        "\n",
        "tf.reshape (Y, shape = (2,3))"
      ],
      "metadata": {
        "id": "SKZfI4VD1PLs",
        "colab": {
          "base_uri": "https://localhost:8080/"
        },
        "outputId": "4b476f26-265c-4fce-a4d1-2e56aac33611"
      },
      "execution_count": 34,
      "outputs": [
        {
          "output_type": "execute_result",
          "data": {
            "text/plain": [
              "<tf.Tensor: shape=(2, 3), dtype=int32, numpy=\n",
              "array([[ 7,  8,  8],\n",
              "       [ 9, 10, 11]], dtype=int32)>"
            ]
          },
          "metadata": {},
          "execution_count": 34
        }
      ]
    },
    {
      "cell_type": "code",
      "source": [
        "#try matrix multiplication with reshaped Y\n",
        "X @ tf.reshape(Y,shape=(2,3))"
      ],
      "metadata": {
        "id": "fHTCBmWY3_hg",
        "colab": {
          "base_uri": "https://localhost:8080/"
        },
        "outputId": "c7085c68-bb21-4c8a-f48d-a809d7751f40"
      },
      "execution_count": 35,
      "outputs": [
        {
          "output_type": "execute_result",
          "data": {
            "text/plain": [
              "<tf.Tensor: shape=(3, 3), dtype=int32, numpy=\n",
              "array([[ 25,  28,  30],\n",
              "       [ 57,  64,  68],\n",
              "       [ 89, 100, 106]], dtype=int32)>"
            ]
          },
          "metadata": {},
          "execution_count": 35
        }
      ]
    },
    {
      "cell_type": "code",
      "source": [
        "# Example of transpose (3,2) -> (2,3)\n",
        "tf.transpose(X)"
      ],
      "metadata": {
        "id": "WUNMFja_48oP",
        "colab": {
          "base_uri": "https://localhost:8080/"
        },
        "outputId": "4af6563b-74d8-461a-c5d2-95595be25c47"
      },
      "execution_count": 36,
      "outputs": [
        {
          "output_type": "execute_result",
          "data": {
            "text/plain": [
              "<tf.Tensor: shape=(2, 3), dtype=int32, numpy=\n",
              "array([[1, 3, 5],\n",
              "       [2, 4, 6]], dtype=int32)>"
            ]
          },
          "metadata": {},
          "execution_count": 36
        }
      ]
    },
    {
      "cell_type": "code",
      "source": [
        "#Try matrix multiplication\n",
        "tf.matmul(tf.transpose(X),Y)"
      ],
      "metadata": {
        "colab": {
          "base_uri": "https://localhost:8080/"
        },
        "id": "ec4Iv7gN5uMn",
        "outputId": "e9cde805-171d-4d51-9651-0330413b2ad4"
      },
      "execution_count": 37,
      "outputs": [
        {
          "output_type": "execute_result",
          "data": {
            "text/plain": [
              "<tf.Tensor: shape=(2, 2), dtype=int32, numpy=\n",
              "array([[ 81,  90],\n",
              "       [106, 118]], dtype=int32)>"
            ]
          },
          "metadata": {},
          "execution_count": 37
        }
      ]
    },
    {
      "cell_type": "code",
      "source": [
        "#You can achieve the same result with parameters\n",
        "tf.matmul(a=X, b=Y, transpose_a =True, transpose_b =False)"
      ],
      "metadata": {
        "colab": {
          "base_uri": "https://localhost:8080/"
        },
        "id": "gsvde52g51nU",
        "outputId": "c3e959c7-a34a-48e3-e630-180e76aefce0"
      },
      "execution_count": 38,
      "outputs": [
        {
          "output_type": "execute_result",
          "data": {
            "text/plain": [
              "<tf.Tensor: shape=(2, 2), dtype=int32, numpy=\n",
              "array([[ 81,  90],\n",
              "       [106, 118]], dtype=int32)>"
            ]
          },
          "metadata": {},
          "execution_count": 38
        }
      ]
    },
    {
      "cell_type": "markdown",
      "source": [
        "* (3, 2) @ (2, 3) -> (3, 3) done with X @ tf.reshape(Y, shape=(2, 3))\n",
        "* (2, 3) @ (3, 2) -> (2, 2) done with tf.matmul(tf.transpose(X), Y)"
      ],
      "metadata": {
        "id": "63w1E4hu7CGT"
      }
    },
    {
      "cell_type": "markdown",
      "source": [
        "#The dot product"
      ],
      "metadata": {
        "id": "HtT787sk7MNI"
      }
    },
    {
      "cell_type": "code",
      "source": [
        "#tf.matmul() operating using tf.tensordot().\n",
        "tf.tensordot(tf.transpose(X), Y, axes=1)\n"
      ],
      "metadata": {
        "colab": {
          "base_uri": "https://localhost:8080/"
        },
        "id": "eN1867Tb7J0y",
        "outputId": "90569800-8c18-4a88-9073-2a1c7fe202b6"
      },
      "execution_count": 39,
      "outputs": [
        {
          "output_type": "execute_result",
          "data": {
            "text/plain": [
              "<tf.Tensor: shape=(2, 2), dtype=int32, numpy=\n",
              "array([[ 81,  90],\n",
              "       [106, 118]], dtype=int32)>"
            ]
          },
          "metadata": {},
          "execution_count": 39
        }
      ]
    },
    {
      "cell_type": "code",
      "source": [
        "print(X)\n",
        "print(Y)\n",
        "#perform matrix multiplication between X and Y (transposed)\n",
        "tf.matmul(X, tf.transpose(Y))"
      ],
      "metadata": {
        "colab": {
          "base_uri": "https://localhost:8080/"
        },
        "id": "v7mWF4IL-x11",
        "outputId": "e5b31493-d76c-43e7-df2e-1efea6b0920a"
      },
      "execution_count": 40,
      "outputs": [
        {
          "output_type": "stream",
          "name": "stdout",
          "text": [
            "tf.Tensor(\n",
            "[[1 2]\n",
            " [3 4]\n",
            " [5 6]], shape=(3, 2), dtype=int32)\n",
            "tf.Tensor(\n",
            "[[ 7  8]\n",
            " [ 8  9]\n",
            " [10 11]], shape=(3, 2), dtype=int32)\n"
          ]
        },
        {
          "output_type": "execute_result",
          "data": {
            "text/plain": [
              "<tf.Tensor: shape=(3, 3), dtype=int32, numpy=\n",
              "array([[ 23,  26,  32],\n",
              "       [ 53,  60,  74],\n",
              "       [ 83,  94, 116]], dtype=int32)>"
            ]
          },
          "metadata": {},
          "execution_count": 40
        }
      ]
    },
    {
      "cell_type": "code",
      "source": [
        "#matmul by reshaping \n",
        "tf.matmul(X, tf.reshape(Y, (2,3)))"
      ],
      "metadata": {
        "colab": {
          "base_uri": "https://localhost:8080/"
        },
        "id": "HtQ9b1vM8hb5",
        "outputId": "aa0552f7-abbd-4c0b-9f14-43634a95c2e0"
      },
      "execution_count": 41,
      "outputs": [
        {
          "output_type": "execute_result",
          "data": {
            "text/plain": [
              "<tf.Tensor: shape=(3, 3), dtype=int32, numpy=\n",
              "array([[ 25,  28,  30],\n",
              "       [ 57,  64,  68],\n",
              "       [ 89, 100, 106]], dtype=int32)>"
            ]
          },
          "metadata": {},
          "execution_count": 41
        }
      ]
    },
    {
      "cell_type": "code",
      "source": [
        "# check the shape \n",
        "Y.shape, tf.reshape(Y,(2,3)).shape, tf.transpose(Y).shape"
      ],
      "metadata": {
        "colab": {
          "base_uri": "https://localhost:8080/"
        },
        "id": "rEWV0Oas9YY4",
        "outputId": "460ee849-1e9e-4caf-eb1e-657714e5d551"
      },
      "execution_count": 42,
      "outputs": [
        {
          "output_type": "execute_result",
          "data": {
            "text/plain": [
              "(TensorShape([3, 2]), TensorShape([2, 3]), TensorShape([2, 3]))"
            ]
          },
          "metadata": {},
          "execution_count": 42
        }
      ]
    },
    {
      "cell_type": "code",
      "source": [
        "# Check values of Y, reshape Y and transpose Y\n",
        "print(\"Normal Y:\")\n",
        "print(Y,\"/n\") # \"\\\" for newline\n",
        "\n",
        "print(\"Y reshaped to (2,3)\")\n",
        "print(tf.reshape(Y, (2,3)),\"/n\")\n",
        "\n",
        "print(\"Y transpose value\")\n",
        "print (tf.transpose(Y))\n",
        "\n"
      ],
      "metadata": {
        "colab": {
          "base_uri": "https://localhost:8080/"
        },
        "id": "rDEWYhW-94Fh",
        "outputId": "07429f63-b676-400e-955b-4e16e84b3619"
      },
      "execution_count": 43,
      "outputs": [
        {
          "output_type": "stream",
          "name": "stdout",
          "text": [
            "Normal Y:\n",
            "tf.Tensor(\n",
            "[[ 7  8]\n",
            " [ 8  9]\n",
            " [10 11]], shape=(3, 2), dtype=int32) /n\n",
            "Y reshaped to (2,3)\n",
            "tf.Tensor(\n",
            "[[ 7  8  8]\n",
            " [ 9 10 11]], shape=(2, 3), dtype=int32) /n\n",
            "Y transpose value\n",
            "tf.Tensor(\n",
            "[[ 7  8 10]\n",
            " [ 8  9 11]], shape=(2, 3), dtype=int32)\n"
          ]
        }
      ]
    },
    {
      "cell_type": "markdown",
      "source": [
        "As you can see, the outputs of tf.reshape() and tf.transpose() when called on Y, even though they have the same shape, are different.\n",
        "\n",
        "This can be explained by the default behaviour of each method:\n",
        "\n",
        "tf.reshape() - change the shape of the given tensor (first) and then insert values in order they appear (in our case, 7, 8, 9, 10, 11, 12).\n",
        "tf.transpose() - swap the order of the axes, by default the last axis becomes the first, however the order can be changed using the perm parameter."
      ],
      "metadata": {
        "id": "gVEgMEEQACF1"
      }
    },
    {
      "cell_type": "markdown",
      "source": [
        "##Matrix multiplication tidbits"
      ],
      "metadata": {
        "id": "rsJA0iLZAF0L"
      }
    },
    {
      "cell_type": "markdown",
      "source": [
        "##Changing the datatype of a tensor\n",
        "you can change the datatype of a tensor using \n",
        "tf.cast"
      ],
      "metadata": {
        "id": "EcKkX-hDAViN"
      }
    },
    {
      "cell_type": "code",
      "source": [
        "#defult dataype for A and B\n",
        "A =tf.constant([1.0,2.0,3.,4.,5.])\n",
        "B= tf.constant([6,7,8,9,10])"
      ],
      "metadata": {
        "id": "1R41jBXb_yGh"
      },
      "execution_count": 44,
      "outputs": []
    },
    {
      "cell_type": "code",
      "source": [
        "A, B"
      ],
      "metadata": {
        "colab": {
          "base_uri": "https://localhost:8080/"
        },
        "id": "K7f4P_GvBBeK",
        "outputId": "8158060a-430b-4b36-a1d8-f777fdf33660"
      },
      "execution_count": 45,
      "outputs": [
        {
          "output_type": "execute_result",
          "data": {
            "text/plain": [
              "(<tf.Tensor: shape=(5,), dtype=float32, numpy=array([1., 2., 3., 4., 5.], dtype=float32)>,\n",
              " <tf.Tensor: shape=(5,), dtype=int32, numpy=array([ 6,  7,  8,  9, 10], dtype=int32)>)"
            ]
          },
          "metadata": {},
          "execution_count": 45
        }
      ]
    },
    {
      "cell_type": "code",
      "source": [
        "# change the datatype by using tf.cast\n",
        "A= tf.cast(A, dtype=tf.float16)\n",
        "B= tf.cast(B, dtype= tf.float32)\n",
        "A, B"
      ],
      "metadata": {
        "colab": {
          "base_uri": "https://localhost:8080/"
        },
        "id": "WC8HRS4YBDIx",
        "outputId": "5e3b7e6d-c555-4371-ab6e-218a106179bc"
      },
      "execution_count": 46,
      "outputs": [
        {
          "output_type": "execute_result",
          "data": {
            "text/plain": [
              "(<tf.Tensor: shape=(5,), dtype=float16, numpy=array([1., 2., 3., 4., 5.], dtype=float16)>,\n",
              " <tf.Tensor: shape=(5,), dtype=float32, numpy=array([ 6.,  7.,  8.,  9., 10.], dtype=float32)>)"
            ]
          },
          "metadata": {},
          "execution_count": 46
        }
      ]
    },
    {
      "cell_type": "markdown",
      "source": [
        "## Getting the absolute value\n",
        "you can use tf.abs()"
      ],
      "metadata": {
        "id": "mQeEQYl8B-Jn"
      }
    },
    {
      "cell_type": "code",
      "source": [
        "# create negative tensor\n",
        "M = tf.constant([-3,4,-5,8])"
      ],
      "metadata": {
        "id": "juaTFNf9BaNx"
      },
      "execution_count": 47,
      "outputs": []
    },
    {
      "cell_type": "code",
      "source": [
        "#get the absolute value\n",
        "M= tf.abs(M)"
      ],
      "metadata": {
        "id": "Q0ruNDECCki6"
      },
      "execution_count": 48,
      "outputs": []
    },
    {
      "cell_type": "code",
      "source": [
        "#get the value\n",
        "M"
      ],
      "metadata": {
        "colab": {
          "base_uri": "https://localhost:8080/"
        },
        "id": "3VWW9Gh9CqwY",
        "outputId": "87063142-8113-4928-a09c-cd1d13dd46be"
      },
      "execution_count": 49,
      "outputs": [
        {
          "output_type": "execute_result",
          "data": {
            "text/plain": [
              "<tf.Tensor: shape=(4,), dtype=int32, numpy=array([3, 4, 5, 8], dtype=int32)>"
            ]
          },
          "metadata": {},
          "execution_count": 49
        }
      ]
    },
    {
      "cell_type": "markdown",
      "source": [
        "#Finding the min, max, mean, sum (aggregation)\n",
        "\n",
        "* tf.reduce_min() -> minimum value of tensor\n",
        " \n",
        "* tf.reduce_max() -> maximum value of tensor\n",
        "\n",
        "* tf.reduce_mean() -> find the mean of all tensors\n",
        "\n",
        "* tf.reduce_sum() -> find the sum of all elements"
      ],
      "metadata": {
        "id": "YHJN3EAXC0iG"
      }
    },
    {
      "cell_type": "code",
      "source": [
        "#Create a tensor with 50 random values between 0 and 100\n",
        "E =tf.constant(np.random.randint(low=0, high=100, size=50))\n",
        "E"
      ],
      "metadata": {
        "colab": {
          "base_uri": "https://localhost:8080/"
        },
        "id": "yv05ZIqLCuQo",
        "outputId": "1bd12961-5f2f-44a6-d530-544b8db15a28"
      },
      "execution_count": 50,
      "outputs": [
        {
          "output_type": "execute_result",
          "data": {
            "text/plain": [
              "<tf.Tensor: shape=(50,), dtype=int64, numpy=\n",
              "array([26, 49, 52, 78, 38, 92, 34, 31, 69, 58, 35,  2, 62, 88, 84, 16, 95,\n",
              "       39,  7, 16, 29, 85, 82,  6, 58, 24, 15, 17, 18, 72,  6, 46, 94,  5,\n",
              "       98, 69, 62, 26, 89, 67, 62,  0, 42, 45, 19, 87, 77, 58,  7, 80])>"
            ]
          },
          "metadata": {},
          "execution_count": 50
        }
      ]
    },
    {
      "cell_type": "code",
      "source": [
        "#find the mean\n",
        "tf.reduce_mean(E)"
      ],
      "metadata": {
        "colab": {
          "base_uri": "https://localhost:8080/"
        },
        "id": "leNxDLTIOVOk",
        "outputId": "91706f96-4e0b-4528-ad13-87a538143319"
      },
      "execution_count": 51,
      "outputs": [
        {
          "output_type": "execute_result",
          "data": {
            "text/plain": [
              "<tf.Tensor: shape=(), dtype=int64, numpy=48>"
            ]
          },
          "metadata": {},
          "execution_count": 51
        }
      ]
    },
    {
      "cell_type": "code",
      "source": [
        "#find the maximum\n",
        "tf.reduce_max(E)"
      ],
      "metadata": {
        "colab": {
          "base_uri": "https://localhost:8080/"
        },
        "id": "NrYemDd7Ocu9",
        "outputId": "12e4c61e-2d1e-4d7b-bffe-30d77d96866f"
      },
      "execution_count": 52,
      "outputs": [
        {
          "output_type": "execute_result",
          "data": {
            "text/plain": [
              "<tf.Tensor: shape=(), dtype=int64, numpy=98>"
            ]
          },
          "metadata": {},
          "execution_count": 52
        }
      ]
    },
    {
      "cell_type": "code",
      "source": [
        "#find the minimum\n",
        "tf.reduce_min(E)"
      ],
      "metadata": {
        "colab": {
          "base_uri": "https://localhost:8080/"
        },
        "id": "7Lhe2QY1Opoa",
        "outputId": "bccf1801-587f-4bed-e457-5a42b8ed5796"
      },
      "execution_count": 53,
      "outputs": [
        {
          "output_type": "execute_result",
          "data": {
            "text/plain": [
              "<tf.Tensor: shape=(), dtype=int64, numpy=0>"
            ]
          },
          "metadata": {},
          "execution_count": 53
        }
      ]
    },
    {
      "cell_type": "code",
      "source": [
        "#find the sum\n",
        "tf.reduce_sum(E)"
      ],
      "metadata": {
        "colab": {
          "base_uri": "https://localhost:8080/"
        },
        "id": "u4yCpOiSO0qV",
        "outputId": "e11960e2-d956-4db8-b28a-7f335ade6b73"
      },
      "execution_count": 54,
      "outputs": [
        {
          "output_type": "execute_result",
          "data": {
            "text/plain": [
              "<tf.Tensor: shape=(), dtype=int64, numpy=2416>"
            ]
          },
          "metadata": {},
          "execution_count": 54
        }
      ]
    },
    {
      "cell_type": "code",
      "source": [
        "#find the stadard devition \n",
        "tf.reduce_std(E)"
      ],
      "metadata": {
        "colab": {
          "base_uri": "https://localhost:8080/",
          "height": 190
        },
        "id": "qsQR0jgIO73E",
        "outputId": "b42d1be1-20d4-408f-9b8d-525363182009"
      },
      "execution_count": 55,
      "outputs": [
        {
          "output_type": "error",
          "ename": "AttributeError",
          "evalue": "ignored",
          "traceback": [
            "\u001b[0;31m---------------------------------------------------------------------------\u001b[0m",
            "\u001b[0;31mAttributeError\u001b[0m                            Traceback (most recent call last)",
            "\u001b[0;32m<ipython-input-55-820c04666ae7>\u001b[0m in \u001b[0;36m<module>\u001b[0;34m\u001b[0m\n\u001b[1;32m      1\u001b[0m \u001b[0;31m#find the stadard devition\u001b[0m\u001b[0;34m\u001b[0m\u001b[0;34m\u001b[0m\u001b[0;34m\u001b[0m\u001b[0m\n\u001b[0;32m----> 2\u001b[0;31m \u001b[0mtf\u001b[0m\u001b[0;34m.\u001b[0m\u001b[0mreduce_std\u001b[0m\u001b[0;34m(\u001b[0m\u001b[0mE\u001b[0m\u001b[0;34m)\u001b[0m\u001b[0;34m\u001b[0m\u001b[0;34m\u001b[0m\u001b[0m\n\u001b[0m",
            "\u001b[0;31mAttributeError\u001b[0m: module 'tensorflow' has no attribute 'reduce_std'"
          ]
        }
      ]
    },
    {
      "cell_type": "code",
      "source": [
        "tf.reduce.variance(E)"
      ],
      "metadata": {
        "id": "4VL1eG_APNkJ"
      },
      "execution_count": null,
      "outputs": []
    },
    {
      "cell_type": "markdown",
      "source": [
        "## Finding the positional maximum and minimum\n",
        "\n",
        "* tf.argmax() - find the position of the maximum element in a given tensor.\n",
        "* tf.argmin() - find the position of the minimum element in a given tensor."
      ],
      "metadata": {
        "id": "FgcYjd4rPuxm"
      }
    },
    {
      "cell_type": "code",
      "source": [
        "#create a tensor with 50 values between 0 and 1\n",
        "F= tf.constant(np.random.random(50))\n",
        "F"
      ],
      "metadata": {
        "id": "ckYIZ33fPneX"
      },
      "execution_count": null,
      "outputs": []
    },
    {
      "cell_type": "code",
      "source": [
        "#find the maximum element position of F\n",
        "tf.argmax(F)"
      ],
      "metadata": {
        "id": "_URx9wC6RDbB"
      },
      "execution_count": null,
      "outputs": []
    },
    {
      "cell_type": "code",
      "source": [
        "# find the minimum element position of F\n",
        "tf.argmin(F)"
      ],
      "metadata": {
        "id": "y6czZrUeRYEz"
      },
      "execution_count": null,
      "outputs": []
    },
    {
      "cell_type": "markdown",
      "source": [
        "## Squeezing a tensor (removing all single dimensions)\n",
        "Remove single dimensions from a tensor(dimensions with size 1) , you can use tf.squeeze()"
      ],
      "metadata": {
        "id": "B49QpOxGqIbD"
      }
    },
    {
      "cell_type": "code",
      "source": [
        "# Create a rank 5 (5 dimensions) tensor of 50 numbers between 0 and 100\n",
        "G = tf.constant(np.random.randint(0,100,50), shape=(1,1,1,1,50))"
      ],
      "metadata": {
        "id": "oYxiPo5zRpxM"
      },
      "execution_count": null,
      "outputs": []
    },
    {
      "cell_type": "code",
      "source": [
        "#Squeeze tensor G (remove all 1 dimensions)\n",
        "G_squeezed =tf.squeeze(G)"
      ],
      "metadata": {
        "id": "UTwWyiV4rAzg"
      },
      "execution_count": null,
      "outputs": []
    },
    {
      "cell_type": "code",
      "source": [
        "G_squeezed.shape, G_squeezed.ndim"
      ],
      "metadata": {
        "id": "cjMnSwN3rMrl"
      },
      "execution_count": null,
      "outputs": []
    },
    {
      "cell_type": "markdown",
      "source": [
        "## One-hot encoding\n",
        "you can use tf.one_hot()"
      ],
      "metadata": {
        "id": "norc1ZvytPep"
      }
    },
    {
      "cell_type": "code",
      "source": [
        "#Create a list of indicies\n",
        "some_list =[0,1,2,3]\n",
        "\n",
        "#One hot encode them\n",
        "tf.one_hot(some_list, depth=4)"
      ],
      "metadata": {
        "id": "VKP4gtYKs0yP"
      },
      "execution_count": null,
      "outputs": []
    },
    {
      "cell_type": "code",
      "source": [
        "#Specifiy custom value for on and off instead of the default 0 and 1\n",
        "tf.one_hot(some_list, depth =4, on_value =\"we are live!\", off_value=\"offline\")"
      ],
      "metadata": {
        "id": "9JuB0JfJuvtE"
      },
      "execution_count": null,
      "outputs": []
    },
    {
      "cell_type": "markdown",
      "source": [
        "##Squaring, log, square root\n",
        "\n",
        "tf.square() - get the square of every value in a tensor.\n",
        "\n",
        "tf.sqrt() - get the squareroot of every value in a tensor (note: the elements need to be floats or this will error).\n",
        "\n",
        "tf.math.log() - get the natural log of every value in a tensor (elements need to floats)."
      ],
      "metadata": {
        "id": "QAyC2GghvjDH"
      }
    },
    {
      "cell_type": "code",
      "source": [
        "#Create a tensor \n",
        "H = tf.constant(np.arange(1,10))\n",
        "H"
      ],
      "metadata": {
        "id": "WeO161fovgFl"
      },
      "execution_count": null,
      "outputs": []
    },
    {
      "cell_type": "code",
      "source": [
        "#Square it\n",
        "tf.square(H)"
      ],
      "metadata": {
        "id": "ax4V5eqhwCQW"
      },
      "execution_count": null,
      "outputs": []
    },
    {
      "cell_type": "code",
      "source": [
        "#Find the squareroot (will error), needs to be non-integer\n",
        "tf.sqrt(H)"
      ],
      "metadata": {
        "id": "hSd_idyGwM_n"
      },
      "execution_count": null,
      "outputs": []
    },
    {
      "cell_type": "code",
      "source": [
        "#Change H to float2\n",
        "H = tf.cast(H, dtype= tf.float32)"
      ],
      "metadata": {
        "id": "0B89mseBwRPD"
      },
      "execution_count": null,
      "outputs": []
    },
    {
      "cell_type": "code",
      "source": [
        "H"
      ],
      "metadata": {
        "id": "6Jea8b59w6nF"
      },
      "execution_count": null,
      "outputs": []
    },
    {
      "cell_type": "code",
      "source": [
        "#find the squareroot\n",
        "tf.sqrt(H)"
      ],
      "metadata": {
        "id": "DZ6-D6Afw8jh"
      },
      "execution_count": null,
      "outputs": []
    },
    {
      "cell_type": "code",
      "source": [
        "#Find the log (input also needs to be float)\n",
        "tf.math.log(H)"
      ],
      "metadata": {
        "id": "5I3rr0jtxE5V"
      },
      "execution_count": null,
      "outputs": []
    },
    {
      "cell_type": "markdown",
      "source": [
        "## Manipulating tf.variable tensors\n",
        ".assign() - assign a different value to a particular index of a variable tensor.\n",
        "\n",
        ".add_assign() - add to an existing value and reassign it at a particular index of a variable tensor."
      ],
      "metadata": {
        "id": "oklbgFzGxlbE"
      }
    },
    {
      "cell_type": "code",
      "source": [
        "#Create a variable tensor\n",
        "I = tf.Variable(np.arange(0,5))\n",
        "I"
      ],
      "metadata": {
        "id": "e0niC85ZxSW1"
      },
      "execution_count": null,
      "outputs": []
    },
    {
      "cell_type": "code",
      "source": [
        "I.assign([0, 1, 2, 3, 50])"
      ],
      "metadata": {
        "id": "SrY-NJPJyC_G"
      },
      "execution_count": null,
      "outputs": []
    },
    {
      "cell_type": "code",
      "source": [
        "# the change happen in place (the last value is now 50, not 4)\n",
        "I"
      ],
      "metadata": {
        "id": "tOIKQW8FyK-o"
      },
      "execution_count": null,
      "outputs": []
    },
    {
      "cell_type": "code",
      "source": [
        "# Add 10 to every element in I\n",
        "I.assign_add([10,10,10,10,10])"
      ],
      "metadata": {
        "id": "tYHS90e1zGrY"
      },
      "execution_count": null,
      "outputs": []
    },
    {
      "cell_type": "code",
      "source": [
        "#again the changes happens in palce\n",
        "I"
      ],
      "metadata": {
        "id": "Zkoqe1n-0gM0"
      },
      "execution_count": null,
      "outputs": []
    },
    {
      "cell_type": "markdown",
      "source": [
        "#Tensors and NumPy\n",
        "\n",
        "np.array() - pass a tensor to convert to an ndarray (NumPy's main datatype).\n",
        "\n",
        "tensor.numpy() - call on a tensor to convert to an ndarray."
      ],
      "metadata": {
        "id": "6zxgvPH50-dJ"
      }
    },
    {
      "cell_type": "code",
      "source": [
        "#create a tensor from a numpy array\n",
        "J = tf.constant(np.array([3.,5.,7.]))\n",
        "J"
      ],
      "metadata": {
        "id": "bmIG5sSA0zZd"
      },
      "execution_count": null,
      "outputs": []
    },
    {
      "cell_type": "code",
      "source": [
        "#covert tensor J to Numpy with np.array()\n",
        "np.array(J), type(np.array(J))"
      ],
      "metadata": {
        "id": "oxj8S-Me3fTh"
      },
      "execution_count": null,
      "outputs": []
    },
    {
      "cell_type": "code",
      "source": [
        "#convert tensor J to numpy with .Numpy()\n",
        "J.numpy(), type(J.numpy())"
      ],
      "metadata": {
        "id": "Q8BGVRfa3ymp"
      },
      "execution_count": null,
      "outputs": []
    },
    {
      "cell_type": "code",
      "source": [
        "\n",
        "# Create a tensor from NumPy and from an array\n",
        "numpy_J = tf.constant(np.array([3., 7., 10.])) # will be float64 (due to NumPy)\n",
        "tensor_J = tf.constant([3., 7., 10.]) # will be float32 (due to being TensorFlow default)\n",
        "numpy_J.dtype, tensor_J.dtype"
      ],
      "metadata": {
        "id": "5kVJW9IZ4Ho3"
      },
      "execution_count": null,
      "outputs": []
    },
    {
      "cell_type": "markdown",
      "source": [
        "## Using @tf.function"
      ],
      "metadata": {
        "id": "We00x9m1G-Se"
      }
    },
    {
      "cell_type": "code",
      "source": [
        "#Create a simple function, it decorate with @tf.function\n",
        "#create a simple function\n",
        "def function(x,y):\n",
        "  return x**2 + y\n",
        "\n",
        "x = tf.constant(np.arange(0,10))\n",
        "y = tf.constant(np.arange(10,20))\n",
        "function(x,y)"
      ],
      "metadata": {
        "colab": {
          "base_uri": "https://localhost:8080/"
        },
        "id": "JDOLTCzF-GTU",
        "outputId": "9f67b6c0-0de8-46b2-b079-9c5995e0397e"
      },
      "execution_count": 56,
      "outputs": [
        {
          "output_type": "execute_result",
          "data": {
            "text/plain": [
              "<tf.Tensor: shape=(10,), dtype=int64, numpy=array([ 10,  12,  16,  22,  30,  40,  52,  66,  82, 100])>"
            ]
          },
          "metadata": {},
          "execution_count": 56
        }
      ]
    },
    {
      "cell_type": "code",
      "source": [
        "#create the same function and decorate it with tf.function\n",
        "@tf.function\n",
        "def tf_function(x,y):\n",
        "  return x**2 + y\n",
        "\n",
        "tf_function(x,y)"
      ],
      "metadata": {
        "colab": {
          "base_uri": "https://localhost:8080/"
        },
        "id": "Ydv94eulJbk0",
        "outputId": "cf2dd7a3-f43e-430c-87e8-03fe10b81315"
      },
      "execution_count": 57,
      "outputs": [
        {
          "output_type": "execute_result",
          "data": {
            "text/plain": [
              "<tf.Tensor: shape=(10,), dtype=int64, numpy=array([ 10,  12,  16,  22,  30,  40,  52,  66,  82, 100])>"
            ]
          },
          "metadata": {},
          "execution_count": 57
        }
      ]
    },
    {
      "cell_type": "markdown",
      "source": [
        "## Finding access to GPUs"
      ],
      "metadata": {
        "id": "MSQNRKjGKBt-"
      }
    },
    {
      "cell_type": "code",
      "source": [
        "import tensorflow as tf\n",
        "print(tf.config.list_physical_devices('GPU'))"
      ],
      "metadata": {
        "colab": {
          "base_uri": "https://localhost:8080/"
        },
        "id": "stPesaj7J9Oa",
        "outputId": "509d17e4-1ed8-46d8-a35e-c9f4b5c431fd"
      },
      "execution_count": 58,
      "outputs": [
        {
          "output_type": "stream",
          "name": "stdout",
          "text": [
            "[PhysicalDevice(name='/physical_device:GPU:0', device_type='GPU')]\n"
          ]
        }
      ]
    },
    {
      "cell_type": "code",
      "source": [
        "#you have to change your runtime type\n",
        "import tensorflow as tf\n",
        "print(tf.config.list_physical_devices('GPU'))"
      ],
      "metadata": {
        "colab": {
          "base_uri": "https://localhost:8080/"
        },
        "id": "RWHDFh5NKKPJ",
        "outputId": "8bd99255-8cfb-43cf-8a0e-eab7fd6b7cd1"
      },
      "execution_count": 59,
      "outputs": [
        {
          "output_type": "stream",
          "name": "stdout",
          "text": [
            "[PhysicalDevice(name='/physical_device:GPU:0', device_type='GPU')]\n"
          ]
        }
      ]
    },
    {
      "cell_type": "code",
      "source": [
        "!nvidia-smi"
      ],
      "metadata": {
        "colab": {
          "base_uri": "https://localhost:8080/"
        },
        "id": "aIg9ydisLHzQ",
        "outputId": "4a5ee645-57b9-4c9e-e253-f77c65ae955a"
      },
      "execution_count": 60,
      "outputs": [
        {
          "output_type": "stream",
          "name": "stdout",
          "text": [
            "Sat Feb  4 17:49:50 2023       \n",
            "+-----------------------------------------------------------------------------+\n",
            "| NVIDIA-SMI 510.47.03    Driver Version: 510.47.03    CUDA Version: 11.6     |\n",
            "|-------------------------------+----------------------+----------------------+\n",
            "| GPU  Name        Persistence-M| Bus-Id        Disp.A | Volatile Uncorr. ECC |\n",
            "| Fan  Temp  Perf  Pwr:Usage/Cap|         Memory-Usage | GPU-Util  Compute M. |\n",
            "|                               |                      |               MIG M. |\n",
            "|===============================+======================+======================|\n",
            "|   0  Tesla T4            Off  | 00000000:00:04.0 Off |                    0 |\n",
            "| N/A   49C    P0    27W /  70W |    312MiB / 15360MiB |      0%      Default |\n",
            "|                               |                      |                  N/A |\n",
            "+-------------------------------+----------------------+----------------------+\n",
            "                                                                               \n",
            "+-----------------------------------------------------------------------------+\n",
            "| Processes:                                                                  |\n",
            "|  GPU   GI   CI        PID   Type   Process name                  GPU Memory |\n",
            "|        ID   ID                                                   Usage      |\n",
            "|=============================================================================|\n",
            "|    0   N/A  N/A      2698      C                                     309MiB |\n",
            "+-----------------------------------------------------------------------------+\n"
          ]
        }
      ]
    },
    {
      "cell_type": "code",
      "source": [],
      "metadata": {
        "id": "mgBc41IcjGiw"
      },
      "execution_count": 60,
      "outputs": []
    }
  ]
}